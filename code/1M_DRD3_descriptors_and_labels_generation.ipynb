{
 "cells": [
  {
   "cell_type": "code",
   "execution_count": 2,
   "id": "09728e9e-6c63-447b-bd42-1fce3942fd9d",
   "metadata": {},
   "outputs": [],
   "source": [
    "import numpy as np\n",
    "import pandas as pd\n",
    "from scipy import sparse as ss\n",
    "from rdkit import Chem\n",
    "from rdkit.Chem import rdMolDescriptors as rdmd\n",
    "from tqdm import tqdm"
   ]
  },
  {
   "cell_type": "markdown",
   "id": "89316199-b67a-4246-ba0b-3b0338a20c87",
   "metadata": {},
   "source": [
    "## Read the dataframe"
   ]
  },
  {
   "cell_type": "code",
   "execution_count": 3,
   "id": "bc0df531-0927-4fb9-9050-2a302b8ae22f",
   "metadata": {
    "scrolled": true
   },
   "outputs": [
    {
     "data": {
      "text/html": [
       "<div>\n",
       "<style scoped>\n",
       "    .dataframe tbody tr th:only-of-type {\n",
       "        vertical-align: middle;\n",
       "    }\n",
       "\n",
       "    .dataframe tbody tr th {\n",
       "        vertical-align: top;\n",
       "    }\n",
       "\n",
       "    .dataframe thead th {\n",
       "        text-align: right;\n",
       "    }\n",
       "</style>\n",
       "<table border=\"1\" class=\"dataframe\">\n",
       "  <thead>\n",
       "    <tr style=\"text-align: right;\">\n",
       "      <th></th>\n",
       "      <th>name_1</th>\n",
       "      <th>smiles_1</th>\n",
       "      <th>name_2</th>\n",
       "      <th>smiles_2</th>\n",
       "      <th>IFP</th>\n",
       "      <th>IFP_polar</th>\n",
       "    </tr>\n",
       "  </thead>\n",
       "  <tbody>\n",
       "    <tr>\n",
       "      <th>0</th>\n",
       "      <td>EN300-7418644_i001</td>\n",
       "      <td>C[C@@H](c1ccc(cc1)C#N)[NH3+]</td>\n",
       "      <td>EN300-71903_i001</td>\n",
       "      <td>C1CCN([C@@H](C1)C(=O)[O-])C(=O)C2CCCC2</td>\n",
       "      <td>0.000000</td>\n",
       "      <td>0.0</td>\n",
       "    </tr>\n",
       "    <tr>\n",
       "      <th>1</th>\n",
       "      <td>EN300-7418644_i001</td>\n",
       "      <td>C[C@@H](c1ccc(cc1)C#N)[NH3+]</td>\n",
       "      <td>EN300-219577_i001</td>\n",
       "      <td>c1c(onc1C(=O)[O-])C[NH+]2CCCC2</td>\n",
       "      <td>0.411765</td>\n",
       "      <td>0.0</td>\n",
       "    </tr>\n",
       "    <tr>\n",
       "      <th>2</th>\n",
       "      <td>EN300-7418644_i001</td>\n",
       "      <td>C[C@@H](c1ccc(cc1)C#N)[NH3+]</td>\n",
       "      <td>EN300-6830151_i001</td>\n",
       "      <td>c1c(c(no1)C(=O)[O-])C2CC2</td>\n",
       "      <td>0.000000</td>\n",
       "      <td>0.0</td>\n",
       "    </tr>\n",
       "    <tr>\n",
       "      <th>3</th>\n",
       "      <td>EN300-7418644_i001</td>\n",
       "      <td>C[C@@H](c1ccc(cc1)C#N)[NH3+]</td>\n",
       "      <td>EN300-1601163_i004</td>\n",
       "      <td>C1C[C@@H](C[C@@H]1CC(=O)[O-])O</td>\n",
       "      <td>0.000000</td>\n",
       "      <td>0.0</td>\n",
       "    </tr>\n",
       "    <tr>\n",
       "      <th>4</th>\n",
       "      <td>EN300-7418644_i001</td>\n",
       "      <td>C[C@@H](c1ccc(cc1)C#N)[NH3+]</td>\n",
       "      <td>EN300-202201_i001</td>\n",
       "      <td>CCCc1c2c(cc(nc2on1)CC)C(=O)[O-]</td>\n",
       "      <td>0.500000</td>\n",
       "      <td>0.5</td>\n",
       "    </tr>\n",
       "    <tr>\n",
       "      <th>...</th>\n",
       "      <td>...</td>\n",
       "      <td>...</td>\n",
       "      <td>...</td>\n",
       "      <td>...</td>\n",
       "      <td>...</td>\n",
       "      <td>...</td>\n",
       "    </tr>\n",
       "    <tr>\n",
       "      <th>999995</th>\n",
       "      <td>EN300-1237271_i001</td>\n",
       "      <td>C1C[NH2+]C[C@@H]1OCC2CC2</td>\n",
       "      <td>EN300-51359_i001</td>\n",
       "      <td>C1C[C@H](Cn2c1nnc2C3CC3)C(=O)[O-]</td>\n",
       "      <td>0.000000</td>\n",
       "      <td>0.0</td>\n",
       "    </tr>\n",
       "    <tr>\n",
       "      <th>999996</th>\n",
       "      <td>EN300-1237271_i001</td>\n",
       "      <td>C1C[NH2+]C[C@@H]1OCC2CC2</td>\n",
       "      <td>EN300-57589_i003</td>\n",
       "      <td>C[N@H+]1CCC[C@H](C1)C(=O)[O-]</td>\n",
       "      <td>0.000000</td>\n",
       "      <td>0.0</td>\n",
       "    </tr>\n",
       "    <tr>\n",
       "      <th>999997</th>\n",
       "      <td>EN300-1237271_i001</td>\n",
       "      <td>C1C[NH2+]C[C@@H]1OCC2CC2</td>\n",
       "      <td>EN300-343801_i002</td>\n",
       "      <td>C[C@@H](CCC(=O)[O-])[NH+](C)C</td>\n",
       "      <td>0.000000</td>\n",
       "      <td>0.0</td>\n",
       "    </tr>\n",
       "    <tr>\n",
       "      <th>999998</th>\n",
       "      <td>EN300-1237271_i001</td>\n",
       "      <td>C1C[NH2+]C[C@@H]1OCC2CC2</td>\n",
       "      <td>EN300-244267_i001</td>\n",
       "      <td>c1c(c2n(n1)CCC2)C(=O)[O-]</td>\n",
       "      <td>0.000000</td>\n",
       "      <td>0.0</td>\n",
       "    </tr>\n",
       "    <tr>\n",
       "      <th>999999</th>\n",
       "      <td>EN300-1237271_i001</td>\n",
       "      <td>C1C[NH2+]C[C@@H]1OCC2CC2</td>\n",
       "      <td>EN300-112573_i002</td>\n",
       "      <td>C[C@@H]1CCC[C@H]1C(=O)[O-]</td>\n",
       "      <td>0.000000</td>\n",
       "      <td>0.0</td>\n",
       "    </tr>\n",
       "  </tbody>\n",
       "</table>\n",
       "<p>1000000 rows × 6 columns</p>\n",
       "</div>"
      ],
      "text/plain": [
       "                    name_1                      smiles_1              name_2  \\\n",
       "0       EN300-7418644_i001  C[C@@H](c1ccc(cc1)C#N)[NH3+]    EN300-71903_i001   \n",
       "1       EN300-7418644_i001  C[C@@H](c1ccc(cc1)C#N)[NH3+]   EN300-219577_i001   \n",
       "2       EN300-7418644_i001  C[C@@H](c1ccc(cc1)C#N)[NH3+]  EN300-6830151_i001   \n",
       "3       EN300-7418644_i001  C[C@@H](c1ccc(cc1)C#N)[NH3+]  EN300-1601163_i004   \n",
       "4       EN300-7418644_i001  C[C@@H](c1ccc(cc1)C#N)[NH3+]   EN300-202201_i001   \n",
       "...                    ...                           ...                 ...   \n",
       "999995  EN300-1237271_i001      C1C[NH2+]C[C@@H]1OCC2CC2    EN300-51359_i001   \n",
       "999996  EN300-1237271_i001      C1C[NH2+]C[C@@H]1OCC2CC2    EN300-57589_i003   \n",
       "999997  EN300-1237271_i001      C1C[NH2+]C[C@@H]1OCC2CC2   EN300-343801_i002   \n",
       "999998  EN300-1237271_i001      C1C[NH2+]C[C@@H]1OCC2CC2   EN300-244267_i001   \n",
       "999999  EN300-1237271_i001      C1C[NH2+]C[C@@H]1OCC2CC2   EN300-112573_i002   \n",
       "\n",
       "                                      smiles_2       IFP  IFP_polar  \n",
       "0       C1CCN([C@@H](C1)C(=O)[O-])C(=O)C2CCCC2  0.000000        0.0  \n",
       "1               c1c(onc1C(=O)[O-])C[NH+]2CCCC2  0.411765        0.0  \n",
       "2                    c1c(c(no1)C(=O)[O-])C2CC2  0.000000        0.0  \n",
       "3               C1C[C@@H](C[C@@H]1CC(=O)[O-])O  0.000000        0.0  \n",
       "4              CCCc1c2c(cc(nc2on1)CC)C(=O)[O-]  0.500000        0.5  \n",
       "...                                        ...       ...        ...  \n",
       "999995       C1C[C@H](Cn2c1nnc2C3CC3)C(=O)[O-]  0.000000        0.0  \n",
       "999996           C[N@H+]1CCC[C@H](C1)C(=O)[O-]  0.000000        0.0  \n",
       "999997           C[C@@H](CCC(=O)[O-])[NH+](C)C  0.000000        0.0  \n",
       "999998               c1c(c2n(n1)CCC2)C(=O)[O-]  0.000000        0.0  \n",
       "999999              C[C@@H]1CCC[C@H]1C(=O)[O-]  0.000000        0.0  \n",
       "\n",
       "[1000000 rows x 6 columns]"
      ]
     },
     "execution_count": 3,
     "metadata": {},
     "output_type": "execute_result"
    }
   ],
   "source": [
    "df = pd.read_csv('../data/DRD3/1M_DRD3_pairs.tsv', delimiter='\\t')\n",
    "df"
   ]
  },
  {
   "cell_type": "markdown",
   "id": "c67aeeed-a454-4d87-88ce-12b675a7d5b6",
   "metadata": {},
   "source": [
    "## Generate fingerprints "
   ]
  },
  {
   "cell_type": "code",
   "execution_count": 4,
   "id": "fd5919a1-5a44-49fe-9a36-7d8250ef45c1",
   "metadata": {},
   "outputs": [],
   "source": [
    "#Fingerprints parameters\n",
    "parameters = {\n",
    "    \"radius\": 2,\n",
    "    \"nBits\": 2048,\n",
    "    \"invariants\": [],\n",
    "    \"fromAtoms\": [],\n",
    "    \"useChirality\": True,\n",
    "    \"useBondTypes\": True,\n",
    "    \"useFeatures\": False,\n",
    "}"
   ]
  },
  {
   "cell_type": "code",
   "execution_count": 5,
   "id": "4960a3bf-6c0c-467a-89ac-c38b65f91d1e",
   "metadata": {},
   "outputs": [],
   "source": [
    "from rdkit import RDLogger                                                                                                                                                               \n",
    "RDLogger.DisableLog('rdApp.*')  "
   ]
  },
  {
   "cell_type": "code",
   "execution_count": 5,
   "id": "f4af2a3d-989f-48e2-823c-09b45e1a6757",
   "metadata": {},
   "outputs": [
    {
     "name": "stderr",
     "output_type": "stream",
     "text": [
      "Generating fingerprints: 1000000fp [04:54, 3391.14fp/s]\n"
     ]
    }
   ],
   "source": [
    "#Generate fingerprints for every pair of reagents, convert to sparse matrix\n",
    "row_idx = list()\n",
    "col_idx = list()\n",
    "\n",
    "for count, (smi_1, smi_2) in enumerate(tqdm(zip(df['smiles_1'], df['smiles_2']), desc='Generating fingerprints', unit='fp')):\n",
    "\n",
    "    mol1 = Chem.MolFromSmiles(smi_1) \n",
    "    mol2 = Chem.MolFromSmiles(smi_2)\n",
    "\n",
    "    fp1 = rdmd.GetMorganFingerprintAsBitVect(mol1, **parameters)\n",
    "    fp2 = rdmd.GetMorganFingerprintAsBitVect(mol2, **parameters)\n",
    "\n",
    "    fp_and = fp1 & fp2\n",
    "    fp_xor = fp1 ^ fp2\n",
    "    fp = fp_and + fp_xor\n",
    "\n",
    "    onbits = list(fp.GetOnBits())\n",
    "    #these bits all have the same row:\n",
    "    row_idx += [count]*len(onbits)\n",
    "    #and the column indices of those bits:\n",
    "    col_idx+=onbits\n",
    "\n",
    "#generate a sparse matrix out of the row,col indices:\n",
    "fingerprint_matrix = ss.coo_matrix((np.ones(len(row_idx)).astype(bool), (row_idx, col_idx)), shape=(max(row_idx)+1, 4096))\n",
    "#convert to csr matrix:\n",
    "fingerprint_matrix =  ss.csr_matrix(fingerprint_matrix)\n",
    "#Save fingerprints as sparse matrix\n",
    "#ss.save_npz('../data/DRD3/1M_DRD3_fingerprints.npz', fingerprint_matrix)"
   ]
  },
  {
   "cell_type": "markdown",
   "id": "fe8bf513-b465-46da-9580-9fd75e35735d",
   "metadata": {},
   "source": [
    "## Generate training labels"
   ]
  },
  {
   "cell_type": "code",
   "execution_count": 6,
   "id": "619d45ed-71d2-436d-bb9c-fe328e62ba53",
   "metadata": {},
   "outputs": [],
   "source": [
    "#Set thresholds of IFP similarity\n",
    "q = 0.6\n",
    "q_polar = 0.5"
   ]
  },
  {
   "cell_type": "code",
   "execution_count": 7,
   "id": "10055155-5a75-4106-b8a1-0f6750b5ba10",
   "metadata": {},
   "outputs": [],
   "source": [
    "#Create np array with training labels for each pair: hit - '1', else - '0'\n",
    "y = np.where(((df['IFP'] >= q) & (df['IFP_polar']>=q_polar)), 1, 0)\n",
    "#Save labels as np array\n",
    "#np.save('../data/DRD3/1M_DRD3_labels.npy', y)"
   ]
  },
  {
   "cell_type": "code",
   "execution_count": null,
   "id": "5d833cec-8802-45b2-a8cb-ec91c631f7c3",
   "metadata": {},
   "outputs": [],
   "source": []
  }
 ],
 "metadata": {
  "kernelspec": {
   "display_name": "Python 3 (ipykernel)",
   "language": "python",
   "name": "python3"
  },
  "language_info": {
   "codemirror_mode": {
    "name": "ipython",
    "version": 3
   },
   "file_extension": ".py",
   "mimetype": "text/x-python",
   "name": "python",
   "nbconvert_exporter": "python",
   "pygments_lexer": "ipython3",
   "version": "3.10.13"
  }
 },
 "nbformat": 4,
 "nbformat_minor": 5
}
