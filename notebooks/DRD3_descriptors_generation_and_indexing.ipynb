{
 "cells": [
  {
   "cell_type": "code",
   "execution_count": 11,
   "id": "62ccd74c-08f9-47f0-bbd3-946414b5c89f",
   "metadata": {},
   "outputs": [],
   "source": [
    "import numpy as np\n",
    "import pandas as pd\n",
    "from rdkit import Chem\n",
    "from rdkit.Chem import AllChem\n",
    "from tqdm import tqdm"
   ]
  },
  {
   "cell_type": "code",
   "execution_count": 2,
   "id": "dcc353d6-06eb-405b-a7a0-bb97f940511c",
   "metadata": {},
   "outputs": [],
   "source": [
    "df_amines = pd.read_csv('../data/DRD3/amines.tsv', delimiter='\\t')\n",
    "df_acids = pd.read_csv('../data/DRD3/acids.tsv', delimiter='\\t')\n",
    "df_hits = pd.read_csv('../data/DRD3/hits.tsv', delimiter='\\t')"
   ]
  },
  {
   "cell_type": "code",
   "execution_count": 3,
   "id": "db59fe7a-7296-4cca-993b-937855ded49a",
   "metadata": {},
   "outputs": [],
   "source": [
    "num_amines = len(df_amines)\n",
    "num_acids = len(df_acids)"
   ]
  },
  {
   "cell_type": "code",
   "execution_count": 4,
   "id": "278aae6f-19e3-484a-9313-28e24e29d4f2",
   "metadata": {},
   "outputs": [],
   "source": [
    "#Saving indexes of hit pairs\n",
    "for q in [0.6, 0.7, 0.8, 0.9]:\n",
    "    q_polar = 0.5\n",
    "    df_ = df_hits[(df_hits['IFP']>=q)&(df_hits['IFP_polar']>=q_polar)]\n",
    "    amines_idxs = np.array(df_amines.reset_index().set_index('name').loc[df_['name_1']]['index'])\n",
    "    acids_idxs = np.array(df_acids.reset_index().set_index('name').loc[df_['name_2']]['index'])\n",
    "    hits_idxs = amines_idxs * num_acids + acids_idxs\n",
    "    #np.save(f'../data/DRD3/hits_idxs_q_{q}.npy', hits_idxs)"
   ]
  },
  {
   "cell_type": "markdown",
   "id": "94f83f41-06fd-4aef-a54a-891d5d4b7a35",
   "metadata": {},
   "source": [
    "## Generate fingerptints of building blocks"
   ]
  },
  {
   "cell_type": "code",
   "execution_count": 7,
   "id": "0af14883-9058-4b87-8891-5b220ce7c4fc",
   "metadata": {},
   "outputs": [],
   "source": [
    "fp_gen = AllChem.GetMorganGenerator(radius=2, fpSize=2048, includeChirality=True, useBondTypes=True)"
   ]
  },
  {
   "cell_type": "code",
   "execution_count": 12,
   "id": "69c57cbe-173c-4248-9383-2f7805a0d73e",
   "metadata": {},
   "outputs": [
    {
     "name": "stderr",
     "output_type": "stream",
     "text": [
      "Calculating fingerprints: 100%|█████████████████████████████████████████████████████████████████| 33726/33726 [00:33<00:00, 1015.61fp/s]\n"
     ]
    }
   ],
   "source": [
    "fps = np.zeros((len(df_amines), 2048), np.int8)\n",
    "for i, smiles in enumerate(tqdm(df_amines['smiles'], desc=\"Calculating fingerprints\", unit=\"fp\")):\n",
    "    \n",
    "    mol = Chem.MolFromSmiles(smiles)\n",
    "    fp = fp_gen.GetFingerprint(mol)    \n",
    "    fps[i] = np.array(fp).astype(np.int8)\n",
    "\n",
    "np.save(f'../data/DRD3/amines.npy', fps)"
   ]
  },
  {
   "cell_type": "code",
   "execution_count": 13,
   "id": "91f7ec96-9a61-41c5-bb8c-c78589732a2a",
   "metadata": {},
   "outputs": [
    {
     "name": "stderr",
     "output_type": "stream",
     "text": [
      "Calculating fingerprints: 100%|█████████████████████████████████████████████████████████████████| 19887/19887 [00:19<00:00, 1003.10fp/s]\n"
     ]
    }
   ],
   "source": [
    "fps = np.zeros((len(df_acids), 2048), np.int8)\n",
    "for i, smiles in enumerate(tqdm(df_acids['smiles'], desc=\"Calculating fingerprints\", unit=\"fp\")):\n",
    "    \n",
    "    mol = Chem.MolFromSmiles(smiles)\n",
    "    fp = fp_gen.GetFingerprint(mol)    \n",
    "    fps[i] = np.array(fp).astype(np.int8)\n",
    "\n",
    "np.save(f'../data/DRD3/acids.npy', fps)"
   ]
  },
  {
   "cell_type": "code",
   "execution_count": null,
   "id": "75552c06-b4de-445b-8d29-e784dc9e3bb3",
   "metadata": {},
   "outputs": [],
   "source": [
    "f, (ax_box, ax_hist) = plt.subplots(2, sharex=True, gridspec_kw={\"height_ratios\": (.15, .85)})\n",
    "sns.set(style=\"ticks\")\n",
    "\n",
    "sns.boxplot(data=df_hits['tanimoto_IFP'], orient=\"h\", fliersize=1, ax=ax_box)\n",
    "sns.histplot(data=df_hits['tanimoto_IFP'], bins=20, kde=True, kde_kws={'bw_adjust':5}, ax=ax_hist)\n",
    "plt.xlim([0.59,1.01])\n",
    "ax_box.set(yticks=[])\n",
    "ax_hist.set_yticks([0, 500000, 1000000, 1500000, 2000000, 2500000, 3000000], ['0', '0.5M', '1M', '1.5M', '2M', '2.5M', '3M'], fontsize=12)\n",
    "ax_hist.set_xticks([i*0.1 for i in range(6,11)], [round(i*0.1,1) for i in range(6,11)],  fontsize=12)\n",
    "sns.despine(ax=ax_hist)\n",
    "sns.despine(ax=ax_box, left=True)\n",
    "ax_box.set(xlabel='')\n",
    "ax_hist.set_xlabel('IFP Tanimoto smilarity', fontsize=14)\n",
    "ax_hist.set_ylabel('Number of molecules', fontsize=14)\n",
    "#plt.savefig('/projects/ML-SpaceDock/pictures/DRD3_full_hits_ifp_distribution', dpi=300, bbox_inches='tight')\n",
    "plt.show()"
   ]
  }
 ],
 "metadata": {
  "kernelspec": {
   "display_name": "Python 3 (ipykernel)",
   "language": "python",
   "name": "python3"
  },
  "language_info": {
   "codemirror_mode": {
    "name": "ipython",
    "version": 3
   },
   "file_extension": ".py",
   "mimetype": "text/x-python",
   "name": "python",
   "nbconvert_exporter": "python",
   "pygments_lexer": "ipython3",
   "version": "3.10.14"
  }
 },
 "nbformat": 4,
 "nbformat_minor": 5
}
