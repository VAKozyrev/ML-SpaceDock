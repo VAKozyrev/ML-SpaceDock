{
 "cells": [
  {
   "cell_type": "code",
   "execution_count": 1,
   "id": "62ccd74c-08f9-47f0-bbd3-946414b5c89f",
   "metadata": {},
   "outputs": [],
   "source": [
    "import random\n",
    "import pandas as pd\n",
    "import numpy as np\n",
    "from scipy import sparse as ss\n",
    "from rdkit import Chem\n",
    "from rdkit.Chem import rdMolDescriptors as rdmd\n",
    "from rdkit.Chem import DataStructs\n",
    "from tqdm import tqdm"
   ]
  },
  {
   "cell_type": "markdown",
   "id": "a5ad9d27-f133-40aa-935e-b4f7980323b0",
   "metadata": {},
   "source": [
    "## Read the building blocks and create an index for all pairs"
   ]
  },
  {
   "cell_type": "code",
   "execution_count": 27,
   "id": "dcc353d6-06eb-405b-a7a0-bb97f940511c",
   "metadata": {},
   "outputs": [],
   "source": [
    "amines_df = pd.read_csv('../data/DRD3/amines.tsv', delimiter='\\t')\n",
    "acids_df = pd.read_csv('../data/DRD3/acids.tsv', delimiter='\\t')"
   ]
  },
  {
   "cell_type": "code",
   "execution_count": null,
   "id": "10bcc9f3-ad2a-4a6f-9fe3-890e590e35a8",
   "metadata": {},
   "outputs": [],
   "source": []
  },
  {
   "cell_type": "markdown",
   "id": "8f4dcf2a-fefe-428c-b381-264df88f74fa",
   "metadata": {},
   "source": [
    "## Read hits and get indexes of hits"
   ]
  },
  {
   "cell_type": "code",
   "execution_count": 14,
   "id": "63b59545-5cdd-45e0-a2eb-5f56df1fd0ca",
   "metadata": {},
   "outputs": [
    {
     "data": {
      "text/html": [
       "<div>\n",
       "<style scoped>\n",
       "    .dataframe tbody tr th:only-of-type {\n",
       "        vertical-align: middle;\n",
       "    }\n",
       "\n",
       "    .dataframe tbody tr th {\n",
       "        vertical-align: top;\n",
       "    }\n",
       "\n",
       "    .dataframe thead th {\n",
       "        text-align: right;\n",
       "    }\n",
       "</style>\n",
       "<table border=\"1\" class=\"dataframe\">\n",
       "  <thead>\n",
       "    <tr style=\"text-align: right;\">\n",
       "      <th></th>\n",
       "      <th>bb1</th>\n",
       "      <th>bb2</th>\n",
       "      <th>reaction</th>\n",
       "      <th>IFP</th>\n",
       "      <th>IFP_polar</th>\n",
       "    </tr>\n",
       "  </thead>\n",
       "  <tbody>\n",
       "    <tr>\n",
       "      <th>0</th>\n",
       "      <td>EN300-1878549_i001</td>\n",
       "      <td>EN300-11626_i001</td>\n",
       "      <td>Amide</td>\n",
       "      <td>0.764706</td>\n",
       "      <td>0.50</td>\n",
       "    </tr>\n",
       "    <tr>\n",
       "      <th>1</th>\n",
       "      <td>EN300-3575340_i001</td>\n",
       "      <td>EN300-1589742_i001</td>\n",
       "      <td>Amide</td>\n",
       "      <td>0.647059</td>\n",
       "      <td>0.50</td>\n",
       "    </tr>\n",
       "    <tr>\n",
       "      <th>2</th>\n",
       "      <td>EN300-3575340_i002</td>\n",
       "      <td>EN300-7455807_i002</td>\n",
       "      <td>Amide</td>\n",
       "      <td>0.631579</td>\n",
       "      <td>0.50</td>\n",
       "    </tr>\n",
       "    <tr>\n",
       "      <th>3</th>\n",
       "      <td>EN300-3575340_i002</td>\n",
       "      <td>EN300-384067_i001</td>\n",
       "      <td>Amide</td>\n",
       "      <td>0.666667</td>\n",
       "      <td>0.50</td>\n",
       "    </tr>\n",
       "    <tr>\n",
       "      <th>4</th>\n",
       "      <td>EN300-3575340_i002</td>\n",
       "      <td>EN300-343493_i001</td>\n",
       "      <td>Amide</td>\n",
       "      <td>0.631579</td>\n",
       "      <td>0.50</td>\n",
       "    </tr>\n",
       "    <tr>\n",
       "      <th>...</th>\n",
       "      <td>...</td>\n",
       "      <td>...</td>\n",
       "      <td>...</td>\n",
       "      <td>...</td>\n",
       "      <td>...</td>\n",
       "    </tr>\n",
       "    <tr>\n",
       "      <th>7702851</th>\n",
       "      <td>EN300-103503_i002</td>\n",
       "      <td>EN300-12411_i001</td>\n",
       "      <td>Williamson_ether</td>\n",
       "      <td>0.611111</td>\n",
       "      <td>0.75</td>\n",
       "    </tr>\n",
       "    <tr>\n",
       "      <th>7702852</th>\n",
       "      <td>EN300-103503_i002</td>\n",
       "      <td>EN300-10699143_i001</td>\n",
       "      <td>Williamson_ether</td>\n",
       "      <td>0.611111</td>\n",
       "      <td>0.50</td>\n",
       "    </tr>\n",
       "    <tr>\n",
       "      <th>7702853</th>\n",
       "      <td>EN300-103503_i003</td>\n",
       "      <td>EN300-10547_i002</td>\n",
       "      <td>Williamson_ether</td>\n",
       "      <td>0.666667</td>\n",
       "      <td>0.50</td>\n",
       "    </tr>\n",
       "    <tr>\n",
       "      <th>7702854</th>\n",
       "      <td>EN300-103503_i003</td>\n",
       "      <td>EN300-7354512_i001</td>\n",
       "      <td>Williamson_ether</td>\n",
       "      <td>0.611111</td>\n",
       "      <td>0.50</td>\n",
       "    </tr>\n",
       "    <tr>\n",
       "      <th>7702855</th>\n",
       "      <td>EN300-103503_i003</td>\n",
       "      <td>EN300-25852_i001</td>\n",
       "      <td>Williamson_ether</td>\n",
       "      <td>0.666667</td>\n",
       "      <td>0.50</td>\n",
       "    </tr>\n",
       "  </tbody>\n",
       "</table>\n",
       "<p>7702856 rows × 5 columns</p>\n",
       "</div>"
      ],
      "text/plain": [
       "                        bb1                  bb2          reaction       IFP  \\\n",
       "0        EN300-1878549_i001     EN300-11626_i001             Amide  0.764706   \n",
       "1        EN300-3575340_i001   EN300-1589742_i001             Amide  0.647059   \n",
       "2        EN300-3575340_i002   EN300-7455807_i002             Amide  0.631579   \n",
       "3        EN300-3575340_i002    EN300-384067_i001             Amide  0.666667   \n",
       "4        EN300-3575340_i002    EN300-343493_i001             Amide  0.631579   \n",
       "...                     ...                  ...               ...       ...   \n",
       "7702851   EN300-103503_i002     EN300-12411_i001  Williamson_ether  0.611111   \n",
       "7702852   EN300-103503_i002  EN300-10699143_i001  Williamson_ether  0.611111   \n",
       "7702853   EN300-103503_i003     EN300-10547_i002  Williamson_ether  0.666667   \n",
       "7702854   EN300-103503_i003   EN300-7354512_i001  Williamson_ether  0.611111   \n",
       "7702855   EN300-103503_i003     EN300-25852_i001  Williamson_ether  0.666667   \n",
       "\n",
       "         IFP_polar  \n",
       "0             0.50  \n",
       "1             0.50  \n",
       "2             0.50  \n",
       "3             0.50  \n",
       "4             0.50  \n",
       "...            ...  \n",
       "7702851       0.75  \n",
       "7702852       0.50  \n",
       "7702853       0.50  \n",
       "7702854       0.50  \n",
       "7702855       0.50  \n",
       "\n",
       "[7702856 rows x 5 columns]"
      ]
     },
     "execution_count": 14,
     "metadata": {},
     "output_type": "execute_result"
    }
   ],
   "source": [
    "df_hits = pd.read_csv('../data/CBL-B/hits.tsv', delimiter='\\t')\n",
    "df_hits"
   ]
  },
  {
   "cell_type": "code",
   "execution_count": 15,
   "id": "be68f851-2c85-4afd-8ffe-bf0f05767d0b",
   "metadata": {},
   "outputs": [],
   "source": [
    "def get_hits_idxs(df_hits, q):\n",
    "    df_hits = df_hits[df_hits['IFP'] >= q]\n",
    "    hits_idxs = np.array([], dtype=np.int64)\n",
    "    for name, group in df_hits.groupby('reaction'):\n",
    "        \n",
    "        reaction_n = reactions_names[name]\n",
    "        \n",
    "        bb1_df = bbs[reaction_rules[reaction_n][0]]\n",
    "        bb1_df = bb1_df.set_index('name')\n",
    "        bb2_df = bbs[reaction_rules[reaction_n][1]]\n",
    "        bb2_df = bb2_df.set_index('name')\n",
    "        \n",
    "        bb1_idxs = bb1_df.index.get_indexer(group['bb1'])\n",
    "        bb2_idxs = bb2_df.index.get_indexer(group['bb2'])\n",
    "        \n",
    "        idxs_local = bb1_idxs * len(bb2_df) + bb2_idxs\n",
    "        idxs = idxs_local + reaction_borders[reaction_n] - pairs_per_reaction[reaction_n] + 1\n",
    "    \n",
    "        hits_idxs = np.hstack([hits_idxs, idxs])\n",
    "    return hits_idxs"
   ]
  },
  {
   "cell_type": "code",
   "execution_count": 16,
   "id": "38930f89-8fe1-4247-a4de-126d9959f5f7",
   "metadata": {},
   "outputs": [],
   "source": [
    "for q in [0.6, 0.7, 0.8, 0.9]:\n",
    "    hits_idxs = get_hits_idxs(df_hits, q)\n",
    "    #np.save(f'../data/CBL-B/hits_idxs_q_{q}.npy', hits_idxs)"
   ]
  },
  {
   "cell_type": "markdown",
   "id": "94f83f41-06fd-4aef-a54a-891d5d4b7a35",
   "metadata": {},
   "source": [
    "## Generate fingerptints of building blocks"
   ]
  },
  {
   "cell_type": "code",
   "execution_count": 17,
   "id": "0af14883-9058-4b87-8891-5b220ce7c4fc",
   "metadata": {},
   "outputs": [],
   "source": [
    "parameters={ \n",
    "    \"radius\": 2,\n",
    "    \"nBits\": 2048,\n",
    "    \"invariants\": [],\n",
    "    \"fromAtoms\": [],\n",
    "    \"useChirality\": True,\n",
    "    \"useBondTypes\": True,\n",
    "    \"useFeatures\": False\n",
    "}"
   ]
  },
  {
   "cell_type": "code",
   "execution_count": 18,
   "id": "74b84229-2a38-4e2f-84e5-168c448e88fb",
   "metadata": {},
   "outputs": [],
   "source": [
    "from rdkit import RDLogger                                                                                                                                                               \n",
    "RDLogger.DisableLog('rdApp.*')  "
   ]
  },
  {
   "cell_type": "code",
   "execution_count": null,
   "id": "69c57cbe-173c-4248-9383-2f7805a0d73e",
   "metadata": {},
   "outputs": [
    {
     "name": "stderr",
     "output_type": "stream",
     "text": [
      "Calculating fingerprints: 100%|█████████| 75697/75697 [00:59<00:00, 1264.21fp/s]\n",
      "Calculating fingerprints: 100%|█████████| 35406/35406 [00:28<00:00, 1231.24fp/s]\n",
      "Calculating fingerprints: 100%|█████████████| 150/150 [00:00<00:00, 1083.71fp/s]\n",
      "Calculating fingerprints: 100%|███████████| 4060/4060 [00:03<00:00, 1229.25fp/s]\n",
      "Calculating fingerprints: 100%|█████████| 66153/66153 [00:52<00:00, 1249.61fp/s]\n",
      "Calculating fingerprints: 100%|█████████| 17993/17993 [00:14<00:00, 1246.70fp/s]\n",
      "Calculating fingerprints: 100%|█████████| 30243/30243 [00:23<00:00, 1261.05fp/s]\n",
      "Calculating fingerprints: 100%|█████████| 14532/14532 [00:11<00:00, 1227.81fp/s]\n",
      "Calculating fingerprints:  58%|█████▎   | 16827/28785 [00:13<00:09, 1225.02fp/s]"
     ]
    }
   ],
   "source": [
    "for n, df in enumerate(bbs):\n",
    "    fps = np.zeros((len(df), 2048), np.int8)\n",
    "    for i, smiles in enumerate(tqdm(df['smiles'], desc=\"Calculating fingerprints\", unit=\"fp\")):\n",
    "        \n",
    "        mol = Chem.MolFromSmiles(smiles)\n",
    "        fp = rdmd.GetMorganFingerprintAsBitVect(mol, **parameters)\n",
    "        \n",
    "        fps[i] = np.array(fp).astype(np.int8)\n",
    "\n",
    "    np.save(f'../data/CBL-B/bb_{n}.npy', fps)"
   ]
  },
  {
   "cell_type": "code",
   "execution_count": null,
   "id": "91f7ec96-9a61-41c5-bb8c-c78589732a2a",
   "metadata": {},
   "outputs": [],
   "source": []
  }
 ],
 "metadata": {
  "kernelspec": {
   "display_name": "Python 3 (ipykernel)",
   "language": "python",
   "name": "python3"
  },
  "language_info": {
   "codemirror_mode": {
    "name": "ipython",
    "version": 3
   },
   "file_extension": ".py",
   "mimetype": "text/x-python",
   "name": "python",
   "nbconvert_exporter": "python",
   "pygments_lexer": "ipython3",
   "version": "3.10.13"
  }
 },
 "nbformat": 4,
 "nbformat_minor": 5
}
