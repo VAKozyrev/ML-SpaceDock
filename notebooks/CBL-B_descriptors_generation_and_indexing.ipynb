{
 "cells": [
  {
   "cell_type": "code",
   "execution_count": 1,
   "id": "62ccd74c-08f9-47f0-bbd3-946414b5c89f",
   "metadata": {},
   "outputs": [],
   "source": [
    "import random\n",
    "import pandas as pd\n",
    "import numpy as np\n",
    "from scipy import sparse as ss\n",
    "from rdkit import Chem\n",
    "from rdkit.Chem import rdMolDescriptors as rdmd\n",
    "from rdkit.Chem import DataStructs\n",
    "from tqdm import tqdm"
   ]
  },
  {
   "cell_type": "markdown",
   "id": "a5ad9d27-f133-40aa-935e-b4f7980323b0",
   "metadata": {},
   "source": [
    "## Read the building blocks and create an index for all pairs"
   ]
  },
  {
   "cell_type": "code",
   "execution_count": 2,
   "id": "4bf9346b-d84b-4b75-bced-2750315631db",
   "metadata": {},
   "outputs": [
    {
     "data": {
      "text/html": [
       "<div>\n",
       "<style scoped>\n",
       "    .dataframe tbody tr th:only-of-type {\n",
       "        vertical-align: middle;\n",
       "    }\n",
       "\n",
       "    .dataframe tbody tr th {\n",
       "        vertical-align: top;\n",
       "    }\n",
       "\n",
       "    .dataframe thead th {\n",
       "        text-align: right;\n",
       "    }\n",
       "</style>\n",
       "<table border=\"1\" class=\"dataframe\">\n",
       "  <thead>\n",
       "    <tr style=\"text-align: right;\">\n",
       "      <th></th>\n",
       "      <th>name</th>\n",
       "      <th>smiles</th>\n",
       "      <th>building_block</th>\n",
       "    </tr>\n",
       "  </thead>\n",
       "  <tbody>\n",
       "    <tr>\n",
       "      <th>0</th>\n",
       "      <td>EN300-6735081_i001</td>\n",
       "      <td>C[C@@H](c1ccc(cc1)Cl)N2C[C@H](CC2=O)C(=O)[O-]</td>\n",
       "      <td>Negishi_Halide</td>\n",
       "    </tr>\n",
       "    <tr>\n",
       "      <th>1</th>\n",
       "      <td>EN300-6735081_i002</td>\n",
       "      <td>C[C@@H](c1ccc(cc1)Cl)N2C[C@@H](CC2=O)C(=O)[O-]</td>\n",
       "      <td>Negishi_Halide</td>\n",
       "    </tr>\n",
       "    <tr>\n",
       "      <th>2</th>\n",
       "      <td>EN300-6736861_i001</td>\n",
       "      <td>c1ccc(cc1)/C=C(\\c2ccc(cc2)Cl)/C(=O)[O-]</td>\n",
       "      <td>Negishi_Halide</td>\n",
       "    </tr>\n",
       "    <tr>\n",
       "      <th>3</th>\n",
       "      <td>EN300-151532_i001</td>\n",
       "      <td>c1cc(c(cc1[C@@H](C(=O)[O-])O)F)Cl</td>\n",
       "      <td>Negishi_Halide</td>\n",
       "    </tr>\n",
       "    <tr>\n",
       "      <th>4</th>\n",
       "      <td>EN300-151532_i002</td>\n",
       "      <td>c1cc(c(cc1[C@H](C(=O)[O-])O)F)Cl</td>\n",
       "      <td>Negishi_Halide</td>\n",
       "    </tr>\n",
       "    <tr>\n",
       "      <th>...</th>\n",
       "      <td>...</td>\n",
       "      <td>...</td>\n",
       "      <td>...</td>\n",
       "    </tr>\n",
       "    <tr>\n",
       "      <th>602860</th>\n",
       "      <td>EN300-2773878_i001</td>\n",
       "      <td>c1cc(c(cc1C(=O)[O-])C#N)N(=O)=O</td>\n",
       "      <td>Grignard_Ketone_aldehyde_nitrile</td>\n",
       "    </tr>\n",
       "    <tr>\n",
       "      <th>602861</th>\n",
       "      <td>EN300-314391_i001</td>\n",
       "      <td>CC(C)(C)OC(=O)N[C@H](CC#N)C(=O)[O-]</td>\n",
       "      <td>Grignard_Ketone_aldehyde_nitrile</td>\n",
       "    </tr>\n",
       "    <tr>\n",
       "      <th>602862</th>\n",
       "      <td>EN300-314391_i002</td>\n",
       "      <td>CC(C)(C)OC(=O)N[C@@H](CC#N)C(=O)[O-]</td>\n",
       "      <td>Grignard_Ketone_aldehyde_nitrile</td>\n",
       "    </tr>\n",
       "    <tr>\n",
       "      <th>602863</th>\n",
       "      <td>EN300-259630_i001</td>\n",
       "      <td>CC(C)(C)OC(=O)N1CC[C@](C1)(C#N)C(=O)[O-]</td>\n",
       "      <td>Grignard_Ketone_aldehyde_nitrile</td>\n",
       "    </tr>\n",
       "    <tr>\n",
       "      <th>602864</th>\n",
       "      <td>EN300-259630_i002</td>\n",
       "      <td>CC(C)(C)OC(=O)N1CC[C@@](C1)(C#N)C(=O)[O-]</td>\n",
       "      <td>Grignard_Ketone_aldehyde_nitrile</td>\n",
       "    </tr>\n",
       "  </tbody>\n",
       "</table>\n",
       "<p>602865 rows × 3 columns</p>\n",
       "</div>"
      ],
      "text/plain": [
       "                      name                                          smiles  \\\n",
       "0       EN300-6735081_i001   C[C@@H](c1ccc(cc1)Cl)N2C[C@H](CC2=O)C(=O)[O-]   \n",
       "1       EN300-6735081_i002  C[C@@H](c1ccc(cc1)Cl)N2C[C@@H](CC2=O)C(=O)[O-]   \n",
       "2       EN300-6736861_i001         c1ccc(cc1)/C=C(\\c2ccc(cc2)Cl)/C(=O)[O-]   \n",
       "3        EN300-151532_i001               c1cc(c(cc1[C@@H](C(=O)[O-])O)F)Cl   \n",
       "4        EN300-151532_i002                c1cc(c(cc1[C@H](C(=O)[O-])O)F)Cl   \n",
       "...                    ...                                             ...   \n",
       "602860  EN300-2773878_i001                 c1cc(c(cc1C(=O)[O-])C#N)N(=O)=O   \n",
       "602861   EN300-314391_i001             CC(C)(C)OC(=O)N[C@H](CC#N)C(=O)[O-]   \n",
       "602862   EN300-314391_i002            CC(C)(C)OC(=O)N[C@@H](CC#N)C(=O)[O-]   \n",
       "602863   EN300-259630_i001        CC(C)(C)OC(=O)N1CC[C@](C1)(C#N)C(=O)[O-]   \n",
       "602864   EN300-259630_i002       CC(C)(C)OC(=O)N1CC[C@@](C1)(C#N)C(=O)[O-]   \n",
       "\n",
       "                          building_block  \n",
       "0                         Negishi_Halide  \n",
       "1                         Negishi_Halide  \n",
       "2                         Negishi_Halide  \n",
       "3                         Negishi_Halide  \n",
       "4                         Negishi_Halide  \n",
       "...                                  ...  \n",
       "602860  Grignard_Ketone_aldehyde_nitrile  \n",
       "602861  Grignard_Ketone_aldehyde_nitrile  \n",
       "602862  Grignard_Ketone_aldehyde_nitrile  \n",
       "602863  Grignard_Ketone_aldehyde_nitrile  \n",
       "602864  Grignard_Ketone_aldehyde_nitrile  \n",
       "\n",
       "[602865 rows x 3 columns]"
      ]
     },
     "execution_count": 2,
     "metadata": {},
     "output_type": "execute_result"
    }
   ],
   "source": [
    "df_bbs = pd.read_csv('/projects/ML-SpaceDock/data/CBL-B/building_blocks.tsv', delimiter='\\t')\n",
    "df_bbs"
   ]
  },
  {
   "cell_type": "code",
   "execution_count": 3,
   "id": "41acdb9a-6f13-4743-bd04-2bb7e0ea89d7",
   "metadata": {
    "scrolled": true
   },
   "outputs": [
    {
     "data": {
      "text/plain": [
       "building_block\n",
       "Amide_Amine                            75697\n",
       "Amide_Carboxylic_acid                  35406\n",
       "Benzoxazole_Aminophenol                  150\n",
       "Benzoxazole_Benzaldehyde                4060\n",
       "Buchwald_Amine                         66153\n",
       "Buchwald_Arylhalide                    17993\n",
       "Grignard_Halide                        30243\n",
       "Grignard_Ketone_aldehyde_nitrile       14532\n",
       "Negishi_Halide                         28785\n",
       "Oxadiazole_Carboxylic_acid             40583\n",
       "Oxadiazole_Nitrile                      6434\n",
       "Reductive_amination_Amine              34489\n",
       "Reductive_amination_Ketone_aldehyde    10799\n",
       "SNAr_Amine                             62973\n",
       "SNAr_Arylhalide                         3768\n",
       "Sulfonamide_Amine                      81459\n",
       "Sulfonamide_Sulfonylchloride            1381\n",
       "Triazole_Carboxylates_esters           50270\n",
       "Triazole_Nitrile                        6180\n",
       "Williamson_ether_Alcohol               22217\n",
       "Williamson_ether_Halide                 9293\n",
       "dtype: int64"
      ]
     },
     "execution_count": 3,
     "metadata": {},
     "output_type": "execute_result"
    }
   ],
   "source": [
    "# See number of building blocks by their types\n",
    "df_bbs.groupby('building_block').size()"
   ]
  },
  {
   "cell_type": "code",
   "execution_count": 4,
   "id": "cfc0adb8-cacb-4adf-b70f-2cec2993aad5",
   "metadata": {},
   "outputs": [
    {
     "name": "stdout",
     "output_type": "stream",
     "text": [
      "0 Amide_Amine\n",
      "1 Amide_Carboxylic_acid\n",
      "2 Benzoxazole_Aminophenol\n",
      "3 Benzoxazole_Benzaldehyde\n",
      "4 Buchwald_Amine\n",
      "5 Buchwald_Arylhalide\n",
      "6 Grignard_Halide\n",
      "7 Grignard_Ketone_aldehyde_nitrile\n",
      "8 Negishi_Halide\n",
      "9 Oxadiazole_Carboxylic_acid\n",
      "10 Oxadiazole_Nitrile\n",
      "11 Reductive_amination_Amine\n",
      "12 Reductive_amination_Ketone_aldehyde\n",
      "13 SNAr_Amine\n",
      "14 SNAr_Arylhalide\n",
      "15 Sulfonamide_Amine\n",
      "16 Sulfonamide_Sulfonylchloride\n",
      "17 Triazole_Carboxylates_esters\n",
      "18 Triazole_Nitrile\n",
      "19 Williamson_ether_Alcohol\n",
      "20 Williamson_ether_Halide\n"
     ]
    }
   ],
   "source": [
    "# Enumerating building block types\n",
    "for i, (name, group) in enumerate(df_bbs.groupby('building_block')):\n",
    "    print(i, name)"
   ]
  },
  {
   "cell_type": "code",
   "execution_count": 5,
   "id": "83778e75-afca-43d5-a02b-3a64b8ec6e7a",
   "metadata": {},
   "outputs": [],
   "source": [
    "# Creating reactions rules and dictionaries\n",
    "# Reaction rules - 2D np.array each row correspond to a reaction, and each element in a row correspont to the building block participating in the reaction\n",
    "# IMPORTANT: the nuber two the left should be the bb1 and the number to the right should be bb2\n",
    "reaction_rules = np.array([\n",
    "    [0, 1],\n",
    "    [2, 3],\n",
    "    [4, 5],\n",
    "    [6, 7],\n",
    "    [8, 8],\n",
    "    [10, 9],\n",
    "    [11, 12],\n",
    "    [13, 14],\n",
    "    [15, 16],\n",
    "    [18, 17],\n",
    "    [19, 20],\n",
    "])\n",
    "# Reactions - dictianary, for each name of reaction where is a corresponding number - row number in the reaction_rules array\n",
    "reactions_names = {\n",
    "    'Amide': 0, \n",
    "    'Benzoxazole': 1,\n",
    "    'Buchwald': 2,\n",
    "    'Grignard': 3,\n",
    "    'Negishi': 4,\n",
    "    'Oxadiazole': 5,\n",
    "    'Reductive_amination': 6,\n",
    "    'SNAr': 7,\n",
    "    'Sulfonamide': 8,\n",
    "    'Triazole': 9,\n",
    "    'Williamson_ether': 10\n",
    "}\n",
    "reactions_numbers = {\n",
    "    0: 'Amide', \n",
    "    1: 'Benzoxazole',\n",
    "    2: 'Buchwald',\n",
    "    3: 'Grignard',\n",
    "    4: 'Negishi',\n",
    "    5: 'Oxadiazole',\n",
    "    6: 'Reductive_amination',\n",
    "    7: 'SNAr',\n",
    "    8: 'Sulfonamide',\n",
    "    9: 'Triazole',\n",
    "    10: 'Williamson_ether'\n",
    "}\n",
    "#np.save('../data/CBL-B/reactions_rules.npy', reaction_rules)"
   ]
  },
  {
   "cell_type": "code",
   "execution_count": 6,
   "id": "4e230f51-c0f9-446d-9585-bc95557cba21",
   "metadata": {},
   "outputs": [],
   "source": [
    "# np.array of building blocks dataframes\n",
    "bbs = np.array([group.reset_index(drop=True) for name, group in df_bbs.groupby('building_block')], dtype=object)\n",
    "# number of pairs for each reaction:\n",
    "pairs_per_reaction = np.array([len(bbs[reaction[0]])*len(bbs[reaction[1]]) for reaction in reaction_rules])\n",
    "# indexes of the last pair for each reaction:\n",
    "reaction_borders = np.cumsum(pairs_per_reaction) - 1"
   ]
  },
  {
   "cell_type": "code",
   "execution_count": 7,
   "id": "2738d75a-cff0-4cf8-ba41-db38b3726086",
   "metadata": {},
   "outputs": [
    {
     "data": {
      "text/plain": [
       "array([2680127982,     609000, 1190290929,  439491276,  828576225,\n",
       "        261111022,  372446711,  237282264,  112494879,  310668600,\n",
       "        206462581])"
      ]
     },
     "execution_count": 7,
     "metadata": {},
     "output_type": "execute_result"
    }
   ],
   "source": [
    "pairs_per_reaction"
   ]
  },
  {
   "cell_type": "code",
   "execution_count": 8,
   "id": "6b7daf51-427d-4750-86c6-1f0b70eec4aa",
   "metadata": {},
   "outputs": [
    {
     "data": {
      "text/plain": [
       "array([2680127981, 2680736981, 3871027910, 4310519186, 5139095411,\n",
       "       5400206433, 5772653144, 6009935408, 6122430287, 6433098887,\n",
       "       6639561468])"
      ]
     },
     "execution_count": 8,
     "metadata": {},
     "output_type": "execute_result"
    }
   ],
   "source": [
    "reaction_borders"
   ]
  },
  {
   "cell_type": "code",
   "execution_count": 9,
   "id": "71629654-53cf-46ba-8485-9aa3bf258b4f",
   "metadata": {},
   "outputs": [
    {
     "data": {
      "text/plain": [
       "6639561469"
      ]
     },
     "execution_count": 9,
     "metadata": {},
     "output_type": "execute_result"
    }
   ],
   "source": [
    "# Overall number of pairs\n",
    "pairs_per_reaction.sum()"
   ]
  },
  {
   "cell_type": "code",
   "execution_count": 10,
   "id": "d0635c8a-afec-422b-a055-49a0e9102a38",
   "metadata": {},
   "outputs": [],
   "source": [
    "# Function, by a given index returnes names and SMILES of the buildingblocks and the number and name of the reaction\n",
    "def get_pair(idx):\n",
    "    \n",
    "    reaction_n = np.searchsorted(reaction_borders, idx)\n",
    "    \n",
    "    idx_local = idx - reaction_borders[reaction_n] + pairs_per_reaction[reaction_n] - 1\n",
    "\n",
    "    bb_1_idx = idx_local // len(bbs[reaction_rules[reaction_n][1]])\n",
    "    bb_2_idx = idx_local % len(bbs[reaction_rules[reaction_n][1]])\n",
    "\n",
    "    return [\n",
    "        bbs[reaction_rules[reaction_n]][0]['name'].iloc[bb_1_idx], \n",
    "        bbs[reaction_rules[reaction_n]][0]['smiles'].iloc[bb_1_idx],\n",
    "        bbs[reaction_rules[reaction_n]][1]['name'].iloc[bb_2_idx],\n",
    "        bbs[reaction_rules[reaction_n]][1]['smiles'].iloc[bb_2_idx],\n",
    "        reaction_n,\n",
    "        reactions_numbers[reaction_n]\n",
    "        ]"
   ]
  },
  {
   "cell_type": "code",
   "execution_count": 11,
   "id": "6d6aceb1-10d5-49bc-86cb-c7bdd268aff9",
   "metadata": {},
   "outputs": [
    {
     "data": {
      "text/plain": [
       "['EN300-6735081_i001',\n",
       " 'C[C@@H](c1ccc(cc1)Cl)N2C[C@H](CC2=O)C(=O)[O-]',\n",
       " 'EN300-151532_i002',\n",
       " 'c1cc(c(cc1[C@H](C(=O)[O-])O)F)Cl',\n",
       " 4,\n",
       " 'Negishi']"
      ]
     },
     "execution_count": 11,
     "metadata": {},
     "output_type": "execute_result"
    }
   ],
   "source": [
    "get_pair(4310519191)"
   ]
  },
  {
   "cell_type": "code",
   "execution_count": 12,
   "id": "e24e25a8-346c-4653-af26-c526e19887b0",
   "metadata": {},
   "outputs": [],
   "source": [
    "# returns index of a pair by building block names and reaction name\n",
    "def get_index(bb1, bb2, reaction):\n",
    "    \n",
    "    reaction_n = reactions_names[reaction]\n",
    "    \n",
    "    bb_1_idx = bbs[reaction_rules[reaction_n][0]].index[bbs[reaction_rules[reaction_n][0]]['name'] == bb1].tolist()[0]\n",
    "    bb_2_idx = bbs[reaction_rules[reaction_n][1]].index[bbs[reaction_rules[reaction_n][1]]['name'] == bb2].tolist()[0]\n",
    "    \n",
    "    idx = reaction_borders[reaction_n] + (bb_1_idx*len(bbs[reaction_rules[reaction_n][1]]) + bb_2_idx) - pairs_per_reaction[reaction_n] + 1\n",
    "    \n",
    "    return idx"
   ]
  },
  {
   "cell_type": "code",
   "execution_count": 13,
   "id": "2c760c66-3758-43c5-b153-19fdf8fe4300",
   "metadata": {},
   "outputs": [
    {
     "data": {
      "text/plain": [
       "4310519191"
      ]
     },
     "execution_count": 13,
     "metadata": {},
     "output_type": "execute_result"
    }
   ],
   "source": [
    "get_index('EN300-6735081_i001', 'EN300-151532_i002', 'Negishi')"
   ]
  },
  {
   "cell_type": "markdown",
   "id": "8f4dcf2a-fefe-428c-b381-264df88f74fa",
   "metadata": {},
   "source": [
    "## Read hits and get indexes of hits"
   ]
  },
  {
   "cell_type": "code",
   "execution_count": 14,
   "id": "63b59545-5cdd-45e0-a2eb-5f56df1fd0ca",
   "metadata": {},
   "outputs": [
    {
     "data": {
      "text/html": [
       "<div>\n",
       "<style scoped>\n",
       "    .dataframe tbody tr th:only-of-type {\n",
       "        vertical-align: middle;\n",
       "    }\n",
       "\n",
       "    .dataframe tbody tr th {\n",
       "        vertical-align: top;\n",
       "    }\n",
       "\n",
       "    .dataframe thead th {\n",
       "        text-align: right;\n",
       "    }\n",
       "</style>\n",
       "<table border=\"1\" class=\"dataframe\">\n",
       "  <thead>\n",
       "    <tr style=\"text-align: right;\">\n",
       "      <th></th>\n",
       "      <th>bb1</th>\n",
       "      <th>bb2</th>\n",
       "      <th>reaction</th>\n",
       "      <th>IFP</th>\n",
       "      <th>IFP_polar</th>\n",
       "    </tr>\n",
       "  </thead>\n",
       "  <tbody>\n",
       "    <tr>\n",
       "      <th>0</th>\n",
       "      <td>EN300-1878549_i001</td>\n",
       "      <td>EN300-11626_i001</td>\n",
       "      <td>Amide</td>\n",
       "      <td>0.764706</td>\n",
       "      <td>0.50</td>\n",
       "    </tr>\n",
       "    <tr>\n",
       "      <th>1</th>\n",
       "      <td>EN300-3575340_i001</td>\n",
       "      <td>EN300-1589742_i001</td>\n",
       "      <td>Amide</td>\n",
       "      <td>0.647059</td>\n",
       "      <td>0.50</td>\n",
       "    </tr>\n",
       "    <tr>\n",
       "      <th>2</th>\n",
       "      <td>EN300-3575340_i002</td>\n",
       "      <td>EN300-7455807_i002</td>\n",
       "      <td>Amide</td>\n",
       "      <td>0.631579</td>\n",
       "      <td>0.50</td>\n",
       "    </tr>\n",
       "    <tr>\n",
       "      <th>3</th>\n",
       "      <td>EN300-3575340_i002</td>\n",
       "      <td>EN300-384067_i001</td>\n",
       "      <td>Amide</td>\n",
       "      <td>0.666667</td>\n",
       "      <td>0.50</td>\n",
       "    </tr>\n",
       "    <tr>\n",
       "      <th>4</th>\n",
       "      <td>EN300-3575340_i002</td>\n",
       "      <td>EN300-343493_i001</td>\n",
       "      <td>Amide</td>\n",
       "      <td>0.631579</td>\n",
       "      <td>0.50</td>\n",
       "    </tr>\n",
       "    <tr>\n",
       "      <th>...</th>\n",
       "      <td>...</td>\n",
       "      <td>...</td>\n",
       "      <td>...</td>\n",
       "      <td>...</td>\n",
       "      <td>...</td>\n",
       "    </tr>\n",
       "    <tr>\n",
       "      <th>7702851</th>\n",
       "      <td>EN300-103503_i002</td>\n",
       "      <td>EN300-12411_i001</td>\n",
       "      <td>Williamson_ether</td>\n",
       "      <td>0.611111</td>\n",
       "      <td>0.75</td>\n",
       "    </tr>\n",
       "    <tr>\n",
       "      <th>7702852</th>\n",
       "      <td>EN300-103503_i002</td>\n",
       "      <td>EN300-10699143_i001</td>\n",
       "      <td>Williamson_ether</td>\n",
       "      <td>0.611111</td>\n",
       "      <td>0.50</td>\n",
       "    </tr>\n",
       "    <tr>\n",
       "      <th>7702853</th>\n",
       "      <td>EN300-103503_i003</td>\n",
       "      <td>EN300-10547_i002</td>\n",
       "      <td>Williamson_ether</td>\n",
       "      <td>0.666667</td>\n",
       "      <td>0.50</td>\n",
       "    </tr>\n",
       "    <tr>\n",
       "      <th>7702854</th>\n",
       "      <td>EN300-103503_i003</td>\n",
       "      <td>EN300-7354512_i001</td>\n",
       "      <td>Williamson_ether</td>\n",
       "      <td>0.611111</td>\n",
       "      <td>0.50</td>\n",
       "    </tr>\n",
       "    <tr>\n",
       "      <th>7702855</th>\n",
       "      <td>EN300-103503_i003</td>\n",
       "      <td>EN300-25852_i001</td>\n",
       "      <td>Williamson_ether</td>\n",
       "      <td>0.666667</td>\n",
       "      <td>0.50</td>\n",
       "    </tr>\n",
       "  </tbody>\n",
       "</table>\n",
       "<p>7702856 rows × 5 columns</p>\n",
       "</div>"
      ],
      "text/plain": [
       "                        bb1                  bb2          reaction       IFP  \\\n",
       "0        EN300-1878549_i001     EN300-11626_i001             Amide  0.764706   \n",
       "1        EN300-3575340_i001   EN300-1589742_i001             Amide  0.647059   \n",
       "2        EN300-3575340_i002   EN300-7455807_i002             Amide  0.631579   \n",
       "3        EN300-3575340_i002    EN300-384067_i001             Amide  0.666667   \n",
       "4        EN300-3575340_i002    EN300-343493_i001             Amide  0.631579   \n",
       "...                     ...                  ...               ...       ...   \n",
       "7702851   EN300-103503_i002     EN300-12411_i001  Williamson_ether  0.611111   \n",
       "7702852   EN300-103503_i002  EN300-10699143_i001  Williamson_ether  0.611111   \n",
       "7702853   EN300-103503_i003     EN300-10547_i002  Williamson_ether  0.666667   \n",
       "7702854   EN300-103503_i003   EN300-7354512_i001  Williamson_ether  0.611111   \n",
       "7702855   EN300-103503_i003     EN300-25852_i001  Williamson_ether  0.666667   \n",
       "\n",
       "         IFP_polar  \n",
       "0             0.50  \n",
       "1             0.50  \n",
       "2             0.50  \n",
       "3             0.50  \n",
       "4             0.50  \n",
       "...            ...  \n",
       "7702851       0.75  \n",
       "7702852       0.50  \n",
       "7702853       0.50  \n",
       "7702854       0.50  \n",
       "7702855       0.50  \n",
       "\n",
       "[7702856 rows x 5 columns]"
      ]
     },
     "execution_count": 14,
     "metadata": {},
     "output_type": "execute_result"
    }
   ],
   "source": [
    "df_hits = pd.read_csv('../data/CBL-B/hits.tsv', delimiter='\\t')\n",
    "df_hits"
   ]
  },
  {
   "cell_type": "code",
   "execution_count": 15,
   "id": "be68f851-2c85-4afd-8ffe-bf0f05767d0b",
   "metadata": {},
   "outputs": [],
   "source": [
    "def get_hits_idxs(df_hits, q):\n",
    "    df_hits = df_hits[df_hits['IFP'] >= q]\n",
    "    hits_idxs = np.array([], dtype=np.int64)\n",
    "    for name, group in df_hits.groupby('reaction'):\n",
    "        \n",
    "        reaction_n = reactions_names[name]\n",
    "        \n",
    "        bb1_df = bbs[reaction_rules[reaction_n][0]]\n",
    "        bb1_df = bb1_df.set_index('name')\n",
    "        bb2_df = bbs[reaction_rules[reaction_n][1]]\n",
    "        bb2_df = bb2_df.set_index('name')\n",
    "        \n",
    "        bb1_idxs = bb1_df.index.get_indexer(group['bb1'])\n",
    "        bb2_idxs = bb2_df.index.get_indexer(group['bb2'])\n",
    "        \n",
    "        idxs_local = bb1_idxs * len(bb2_df) + bb2_idxs\n",
    "        idxs = idxs_local + reaction_borders[reaction_n] - pairs_per_reaction[reaction_n] + 1\n",
    "    \n",
    "        hits_idxs = np.hstack([hits_idxs, idxs])\n",
    "    return hits_idxs"
   ]
  },
  {
   "cell_type": "code",
   "execution_count": 16,
   "id": "38930f89-8fe1-4247-a4de-126d9959f5f7",
   "metadata": {},
   "outputs": [],
   "source": [
    "for q in [0.6, 0.7, 0.8, 0.9]:\n",
    "    hits_idxs = get_hits_idxs(df_hits, q)\n",
    "    #np.save(f'../data/CBL-B/hits_idxs_q_{q}.npy', hits_idxs)"
   ]
  },
  {
   "cell_type": "markdown",
   "id": "94f83f41-06fd-4aef-a54a-891d5d4b7a35",
   "metadata": {},
   "source": [
    "## Generate fingerptints of building blocks"
   ]
  },
  {
   "cell_type": "code",
   "execution_count": 17,
   "id": "0af14883-9058-4b87-8891-5b220ce7c4fc",
   "metadata": {},
   "outputs": [],
   "source": [
    "parameters={ \n",
    "    \"radius\": 2,\n",
    "    \"nBits\": 2048,\n",
    "    \"invariants\": [],\n",
    "    \"fromAtoms\": [],\n",
    "    \"useChirality\": True,\n",
    "    \"useBondTypes\": True,\n",
    "    \"useFeatures\": False\n",
    "}"
   ]
  },
  {
   "cell_type": "code",
   "execution_count": 18,
   "id": "74b84229-2a38-4e2f-84e5-168c448e88fb",
   "metadata": {},
   "outputs": [],
   "source": [
    "from rdkit import RDLogger                                                                                                                                                               \n",
    "RDLogger.DisableLog('rdApp.*')  "
   ]
  },
  {
   "cell_type": "code",
   "execution_count": 19,
   "id": "69c57cbe-173c-4248-9383-2f7805a0d73e",
   "metadata": {},
   "outputs": [
    {
     "name": "stderr",
     "output_type": "stream",
     "text": [
      "Calculating fingerprints: 100%|█████████| 75697/75697 [00:59<00:00, 1264.21fp/s]\n",
      "Calculating fingerprints: 100%|█████████| 35406/35406 [00:28<00:00, 1231.24fp/s]\n",
      "Calculating fingerprints: 100%|█████████████| 150/150 [00:00<00:00, 1083.71fp/s]\n",
      "Calculating fingerprints: 100%|███████████| 4060/4060 [00:03<00:00, 1229.25fp/s]\n",
      "Calculating fingerprints: 100%|█████████| 66153/66153 [00:52<00:00, 1249.61fp/s]\n",
      "Calculating fingerprints: 100%|█████████| 17993/17993 [00:14<00:00, 1246.70fp/s]\n",
      "Calculating fingerprints: 100%|█████████| 30243/30243 [00:23<00:00, 1261.05fp/s]\n",
      "Calculating fingerprints: 100%|█████████| 14532/14532 [00:11<00:00, 1227.81fp/s]\n",
      "Calculating fingerprints: 100%|█████████| 28785/28785 [00:23<00:00, 1229.82fp/s]\n",
      "Calculating fingerprints: 100%|█████████| 40583/40583 [00:33<00:00, 1223.34fp/s]\n",
      "Calculating fingerprints: 100%|███████████| 6434/6434 [00:05<00:00, 1246.57fp/s]\n",
      "Calculating fingerprints: 100%|█████████| 34489/34489 [00:27<00:00, 1261.38fp/s]\n",
      "Calculating fingerprints: 100%|█████████| 10799/10799 [00:08<00:00, 1259.83fp/s]\n",
      "Calculating fingerprints: 100%|█████████| 62973/62973 [00:49<00:00, 1271.22fp/s]\n",
      "Calculating fingerprints: 100%|███████████| 3768/3768 [00:03<00:00, 1254.61fp/s]\n",
      "Calculating fingerprints: 100%|█████████| 81459/81459 [01:04<00:00, 1264.47fp/s]\n",
      "Calculating fingerprints: 100%|███████████| 1381/1381 [00:01<00:00, 1302.05fp/s]\n",
      "Calculating fingerprints: 100%|█████████| 50270/50270 [00:40<00:00, 1238.73fp/s]\n",
      "Calculating fingerprints: 100%|███████████| 6180/6180 [00:04<00:00, 1264.30fp/s]\n",
      "Calculating fingerprints: 100%|█████████| 22217/22217 [00:17<00:00, 1247.67fp/s]\n",
      "Calculating fingerprints: 100%|███████████| 9293/9293 [00:07<00:00, 1192.37fp/s]\n"
     ]
    }
   ],
   "source": [
    "for n, df in enumerate(bbs):\n",
    "    fps = np.zeros((len(df), 2048), np.int8)\n",
    "    for i, smiles in enumerate(tqdm(df['smiles'], desc=\"Calculating fingerprints\", unit=\"fp\")):\n",
    "        \n",
    "        mol = Chem.MolFromSmiles(smiles)\n",
    "        fp = rdmd.GetMorganFingerprintAsBitVect(mol, **parameters)\n",
    "        \n",
    "        fps[i] = np.array(fp).astype(np.int8)\n",
    "\n",
    "    np.save(f'../data/CBL-B/bb_{n}.npy', fps)"
   ]
  },
  {
   "cell_type": "code",
   "execution_count": null,
   "id": "91f7ec96-9a61-41c5-bb8c-c78589732a2a",
   "metadata": {},
   "outputs": [],
   "source": []
  }
 ],
 "metadata": {
  "kernelspec": {
   "display_name": "Python 3 (ipykernel)",
   "language": "python",
   "name": "python3"
  },
  "language_info": {
   "codemirror_mode": {
    "name": "ipython",
    "version": 3
   },
   "file_extension": ".py",
   "mimetype": "text/x-python",
   "name": "python",
   "nbconvert_exporter": "python",
   "pygments_lexer": "ipython3",
   "version": "3.10.13"
  }
 },
 "nbformat": 4,
 "nbformat_minor": 5
}
