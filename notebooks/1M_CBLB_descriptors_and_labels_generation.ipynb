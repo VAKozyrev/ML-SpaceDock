{
 "cells": [
  {
   "cell_type": "code",
   "execution_count": 1,
   "id": "09728e9e-6c63-447b-bd42-1fce3942fd9d",
   "metadata": {},
   "outputs": [],
   "source": [
    "import numpy as np\n",
    "import pandas as pd\n",
    "from scipy import sparse as ss\n",
    "from rdkit import Chem\n",
    "from rdkit.Chem import AllChem\n",
    "from tqdm import tqdm\n",
    "from sklearn.preprocessing import OneHotEncoder"
   ]
  },
  {
   "cell_type": "markdown",
   "id": "c719568d-3724-49bf-a0fe-9c9dfb156dc0",
   "metadata": {},
   "source": [
    "## Read the dataframe"
   ]
  },
  {
   "cell_type": "code",
   "execution_count": 2,
   "id": "bc0df531-0927-4fb9-9050-2a302b8ae22f",
   "metadata": {},
   "outputs": [
    {
     "data": {
      "text/html": [
       "<div>\n",
       "<style scoped>\n",
       "    .dataframe tbody tr th:only-of-type {\n",
       "        vertical-align: middle;\n",
       "    }\n",
       "\n",
       "    .dataframe tbody tr th {\n",
       "        vertical-align: top;\n",
       "    }\n",
       "\n",
       "    .dataframe thead th {\n",
       "        text-align: right;\n",
       "    }\n",
       "</style>\n",
       "<table border=\"1\" class=\"dataframe\">\n",
       "  <thead>\n",
       "    <tr style=\"text-align: right;\">\n",
       "      <th></th>\n",
       "      <th>name_1</th>\n",
       "      <th>smiles_1</th>\n",
       "      <th>name_2</th>\n",
       "      <th>smiles_2</th>\n",
       "      <th>IFP</th>\n",
       "      <th>IFP_polar</th>\n",
       "      <th>reaction</th>\n",
       "    </tr>\n",
       "  </thead>\n",
       "  <tbody>\n",
       "    <tr>\n",
       "      <th>0</th>\n",
       "      <td>EN300-1273273_i001</td>\n",
       "      <td>COc1cc(c(c(c1)Br)O)C(=O)[O-]</td>\n",
       "      <td>EN300-80433_i001</td>\n",
       "      <td>c1ccc(c(c1)CBr)OC(F)F</td>\n",
       "      <td>0.333333</td>\n",
       "      <td>0.0</td>\n",
       "      <td>Negishi</td>\n",
       "    </tr>\n",
       "    <tr>\n",
       "      <th>1</th>\n",
       "      <td>EN300-35822484_i001</td>\n",
       "      <td>C1C(CC1(F)F)(CF)CBr</td>\n",
       "      <td>EN300-8688089_i001</td>\n",
       "      <td>c1cc(cc(c1)[C@@H]2CC[NH2+]C2)C#N</td>\n",
       "      <td>0.550000</td>\n",
       "      <td>0.0</td>\n",
       "      <td>Grignard_Nitrile</td>\n",
       "    </tr>\n",
       "    <tr>\n",
       "      <th>2</th>\n",
       "      <td>EN300-53744_i001</td>\n",
       "      <td>c1cc(ccc1CN)[NH+]2CCOCC2</td>\n",
       "      <td>EN300-310211_i001</td>\n",
       "      <td>Cc1nnc2n1C[C@@H]([N@@](C2)C)C(=O)[O-]</td>\n",
       "      <td>0.500000</td>\n",
       "      <td>0.0</td>\n",
       "      <td>Amide</td>\n",
       "    </tr>\n",
       "    <tr>\n",
       "      <th>3</th>\n",
       "      <td>EN300-7437778_i001</td>\n",
       "      <td>C1CN(CC[NH2+]1)c2[nH]nc(n2)Br</td>\n",
       "      <td>EN300-1620610_i001</td>\n",
       "      <td>CC1(CC[C@@H](C1)CC(=O)[O-])C</td>\n",
       "      <td>0.450000</td>\n",
       "      <td>0.0</td>\n",
       "      <td>Amide</td>\n",
       "    </tr>\n",
       "    <tr>\n",
       "      <th>4</th>\n",
       "      <td>EN300-317553_i001</td>\n",
       "      <td>Cc1ccc(cc1CNC(=O)OC(C)(C)C)Br</td>\n",
       "      <td>EN300-249270_i001</td>\n",
       "      <td>CC(c1cccc(c1)C#N)(F)F</td>\n",
       "      <td>0.523810</td>\n",
       "      <td>0.2</td>\n",
       "      <td>Grignard_Nitrile</td>\n",
       "    </tr>\n",
       "    <tr>\n",
       "      <th>...</th>\n",
       "      <td>...</td>\n",
       "      <td>...</td>\n",
       "      <td>...</td>\n",
       "      <td>...</td>\n",
       "      <td>...</td>\n",
       "      <td>...</td>\n",
       "      <td>...</td>\n",
       "    </tr>\n",
       "    <tr>\n",
       "      <th>999995</th>\n",
       "      <td>EN300-201019_i001</td>\n",
       "      <td>COCC1(CCC1)C[NH3+]</td>\n",
       "      <td>EN300-313500_i001</td>\n",
       "      <td>CC(C)n1cc(c(n1)C2CCOCC2)C(=O)[O-]</td>\n",
       "      <td>0.000000</td>\n",
       "      <td>0.0</td>\n",
       "      <td>Amide</td>\n",
       "    </tr>\n",
       "    <tr>\n",
       "      <th>999996</th>\n",
       "      <td>EN300-25616_i002</td>\n",
       "      <td>Cc1ccc(cc1)[C@H](C2CC2)[NH3+]</td>\n",
       "      <td>EN300-11663_i002</td>\n",
       "      <td>C[C@H](C(=O)c1ccc(cc1)NS(=O)(=O)C)Cl</td>\n",
       "      <td>0.000000</td>\n",
       "      <td>0.0</td>\n",
       "      <td>Reductive_Amination</td>\n",
       "    </tr>\n",
       "    <tr>\n",
       "      <th>999997</th>\n",
       "      <td>EN300-1707771_i001</td>\n",
       "      <td>CCn1cnnc1CCl</td>\n",
       "      <td>EN300-91321_i002</td>\n",
       "      <td>Cc1ccc(cc1)[N@@H+]2CCC[C@H](C2=O)Br</td>\n",
       "      <td>0.000000</td>\n",
       "      <td>0.0</td>\n",
       "      <td>Negishi</td>\n",
       "    </tr>\n",
       "    <tr>\n",
       "      <th>999998</th>\n",
       "      <td>EN300-14055_i001</td>\n",
       "      <td>c1ccc(cc1)CNC(=O)C2CC[NH2+]CC2</td>\n",
       "      <td>EN300-92028_i001</td>\n",
       "      <td>Cc1c(cn(n1)c2ccc(cc2)Cl)C(=O)[O-]</td>\n",
       "      <td>0.000000</td>\n",
       "      <td>0.0</td>\n",
       "      <td>Amide</td>\n",
       "    </tr>\n",
       "    <tr>\n",
       "      <th>999999</th>\n",
       "      <td>EN300-39236_i002</td>\n",
       "      <td>c1cc(ccc1CN)[N@]2CCNC(=O)C2</td>\n",
       "      <td>EN300-6736253_i001</td>\n",
       "      <td>CCOC(=O)c1cc(c2ccncc2n1)Cl</td>\n",
       "      <td>0.000000</td>\n",
       "      <td>0.0</td>\n",
       "      <td>Buchwald</td>\n",
       "    </tr>\n",
       "  </tbody>\n",
       "</table>\n",
       "<p>1000000 rows × 7 columns</p>\n",
       "</div>"
      ],
      "text/plain": [
       "                     name_1                        smiles_1  \\\n",
       "0        EN300-1273273_i001    COc1cc(c(c(c1)Br)O)C(=O)[O-]   \n",
       "1       EN300-35822484_i001             C1C(CC1(F)F)(CF)CBr   \n",
       "2          EN300-53744_i001        c1cc(ccc1CN)[NH+]2CCOCC2   \n",
       "3        EN300-7437778_i001   C1CN(CC[NH2+]1)c2[nH]nc(n2)Br   \n",
       "4         EN300-317553_i001   Cc1ccc(cc1CNC(=O)OC(C)(C)C)Br   \n",
       "...                     ...                             ...   \n",
       "999995    EN300-201019_i001              COCC1(CCC1)C[NH3+]   \n",
       "999996     EN300-25616_i002   Cc1ccc(cc1)[C@H](C2CC2)[NH3+]   \n",
       "999997   EN300-1707771_i001                    CCn1cnnc1CCl   \n",
       "999998     EN300-14055_i001  c1ccc(cc1)CNC(=O)C2CC[NH2+]CC2   \n",
       "999999     EN300-39236_i002     c1cc(ccc1CN)[N@]2CCNC(=O)C2   \n",
       "\n",
       "                    name_2                               smiles_2       IFP  \\\n",
       "0         EN300-80433_i001                  c1ccc(c(c1)CBr)OC(F)F  0.333333   \n",
       "1       EN300-8688089_i001       c1cc(cc(c1)[C@@H]2CC[NH2+]C2)C#N  0.550000   \n",
       "2        EN300-310211_i001  Cc1nnc2n1C[C@@H]([N@@](C2)C)C(=O)[O-]  0.500000   \n",
       "3       EN300-1620610_i001           CC1(CC[C@@H](C1)CC(=O)[O-])C  0.450000   \n",
       "4        EN300-249270_i001                  CC(c1cccc(c1)C#N)(F)F  0.523810   \n",
       "...                    ...                                    ...       ...   \n",
       "999995   EN300-313500_i001      CC(C)n1cc(c(n1)C2CCOCC2)C(=O)[O-]  0.000000   \n",
       "999996    EN300-11663_i002   C[C@H](C(=O)c1ccc(cc1)NS(=O)(=O)C)Cl  0.000000   \n",
       "999997    EN300-91321_i002    Cc1ccc(cc1)[N@@H+]2CCC[C@H](C2=O)Br  0.000000   \n",
       "999998    EN300-92028_i001      Cc1c(cn(n1)c2ccc(cc2)Cl)C(=O)[O-]  0.000000   \n",
       "999999  EN300-6736253_i001             CCOC(=O)c1cc(c2ccncc2n1)Cl  0.000000   \n",
       "\n",
       "        IFP_polar             reaction  \n",
       "0             0.0              Negishi  \n",
       "1             0.0     Grignard_Nitrile  \n",
       "2             0.0                Amide  \n",
       "3             0.0                Amide  \n",
       "4             0.2     Grignard_Nitrile  \n",
       "...           ...                  ...  \n",
       "999995        0.0                Amide  \n",
       "999996        0.0  Reductive_Amination  \n",
       "999997        0.0              Negishi  \n",
       "999998        0.0                Amide  \n",
       "999999        0.0             Buchwald  \n",
       "\n",
       "[1000000 rows x 7 columns]"
      ]
     },
     "execution_count": 2,
     "metadata": {},
     "output_type": "execute_result"
    }
   ],
   "source": [
    "df = pd.read_csv('../data/CBLB/1M_CBLB_pairs.tsv', delimiter='\\t')\n",
    "df"
   ]
  },
  {
   "cell_type": "markdown",
   "id": "7984c819-1367-4da3-8eb1-0a8e2bdd580a",
   "metadata": {},
   "source": [
    "## Generate fingerprints"
   ]
  },
  {
   "cell_type": "code",
   "execution_count": 3,
   "id": "fd5919a1-5a44-49fe-9a36-7d8250ef45c1",
   "metadata": {},
   "outputs": [],
   "source": [
    "fp_gen = AllChem.GetMorganGenerator(radius=2, fpSize=2048, includeChirality=True, useBondTypes=True)"
   ]
  },
  {
   "cell_type": "code",
   "execution_count": 4,
   "id": "81ea9daa-9b2d-463c-a8da-45b393357554",
   "metadata": {},
   "outputs": [],
   "source": [
    "en = OneHotEncoder(sparse_output=True, dtype=np.int8)\n",
    "en.fit(df[['reaction']])\n",
    "reaction_features = en.transform(df[['reaction']])"
   ]
  },
  {
   "cell_type": "code",
   "execution_count": 5,
   "id": "de615ca4-abaf-4cfa-aaf5-2080733a7a62",
   "metadata": {},
   "outputs": [
    {
     "name": "stderr",
     "output_type": "stream",
     "text": [
      "Generating fingerprints: 1000000fp [08:00, 2079.39fp/s]\n"
     ]
    }
   ],
   "source": [
    "#Generate fingerprints for every pair of reagents, convert to sparse matrix\n",
    "row_idx = list()\n",
    "col_idx = list()\n",
    "\n",
    "for count, (smi_1, smi_2) in enumerate(tqdm(zip(df['smiles_1'], df['smiles_2']), desc='Generating fingerprints', unit='fp')):\n",
    "\n",
    "    mol1, mol2 = Chem.MolFromSmiles(smi_1), Chem.MolFromSmiles(smi_2) \n",
    "    fp1, fp2 = fp_gen.GetFingerprint(mol1), fp_gen.GetFingerprint(mol2)\n",
    "\n",
    "    fp_and = fp1 & fp2\n",
    "    fp_xor = fp1 ^ fp2\n",
    "    fp = fp_and + fp_xor\n",
    "\n",
    "    onbits = list(fp.GetOnBits())\n",
    "    #these bits all have the same row:\n",
    "    row_idx += [count]*len(onbits)\n",
    "    #and the column indices of those bits:\n",
    "    col_idx+=onbits\n",
    "\n",
    "#generate a sparse matrix out of the row,col indices:\n",
    "fingerprint_matrix = ss.coo_matrix((np.ones(len(row_idx)).astype(bool), (row_idx, col_idx)), shape=(max(row_idx)+1, 4096))\n",
    "#convert to csr matrix:\n",
    "fingerprint_matrix =  ss.csr_matrix(fingerprint_matrix)"
   ]
  },
  {
   "cell_type": "code",
   "execution_count": 6,
   "id": "721e0c17-b262-4f8a-ba4d-d860647161fc",
   "metadata": {},
   "outputs": [],
   "source": [
    "fps = ss.hstack([fingerprint_matrix, reaction_features])\n",
    "#Save fingerprints as sparse matrix\n",
    "#ss.save_npz('../data/CBLB/1M_CBLB_fingerprints.npz', fingerprint_matrix)"
   ]
  },
  {
   "cell_type": "markdown",
   "id": "d3fe409b-69d1-4d45-85c2-bdc7f0a8fc8c",
   "metadata": {},
   "source": [
    "## Generate training labels"
   ]
  },
  {
   "cell_type": "code",
   "execution_count": 7,
   "id": "3cc249f6-098c-4e8a-9264-fe1a64323899",
   "metadata": {},
   "outputs": [],
   "source": [
    "#Set thresholds of IFP similarity\n",
    "q = 0.6\n",
    "q_polar = 0.25"
   ]
  },
  {
   "cell_type": "code",
   "execution_count": 8,
   "id": "619d45ed-71d2-436d-bb9c-fe328e62ba53",
   "metadata": {},
   "outputs": [],
   "source": [
    "#Create np array with training labels for each pair: hit - '1', else - '0'\n",
    "y = np.where(((df['IFP'] >= q) & (df['IFP_polar']>=q_polar)), 1, 0)\n",
    "#Save labels as np array\n",
    "#np.save('../data/CBLB/1M_CBLB_labels.npy', y)"
   ]
  },
  {
   "cell_type": "markdown",
   "id": "ee616bc5-6bd5-4531-9d8b-2df8082533d5",
   "metadata": {},
   "source": [
    "## PLots"
   ]
  },
  {
   "cell_type": "code",
   "execution_count": 9,
   "id": "81ac61de-0ac9-472a-8d95-94d501a3c53f",
   "metadata": {},
   "outputs": [],
   "source": [
    "from matplotlib import pyplot as plt\n",
    "import seaborn as sns"
   ]
  },
  {
   "cell_type": "code",
   "execution_count": 10,
   "id": "3ffebd48-a0f6-48ee-8675-2c6648425373",
   "metadata": {},
   "outputs": [
    {
     "data": {
      "image/png": "[encoded data removed]",
      "text/plain": [
       "<Figure size 640x480 with 2 Axes>"
      ]
     },
     "metadata": {},
     "output_type": "display_data"
    }
   ],
   "source": [
    "f, (ax_box, ax_hist) = plt.subplots(2, sharex=True, gridspec_kw={\"height_ratios\": (.15, .85)})\n",
    "sns.set(style=\"ticks\")\n",
    "\n",
    "sns.boxplot(data=df['IFP'], orient=\"h\", fliersize=1, ax=ax_box)\n",
    "plot = sns.histplot(data=df['IFP'], bins=20, kde=True, kde_kws={'bw_adjust':1.15}, ax=ax_hist)\n",
    "plt.xlim([-0.01,1.01])\n",
    "plt.yticks([0, 100000, 200000, 300000, 400000, 500000, 600000], ['0', '100K', '200K', '300K', '400K', '500K', '600K'], fontsize = 12)\n",
    "plt.xticks([i*0.1 for i in range(11)], fontsize = 12)\n",
    "ax_box.set(xlabel='')\n",
    "plt.xlabel('IFP Tanimoto smilarity', fontsize=14)\n",
    "plt.ylabel('Number of molecules', fontsize=14)\n",
    "plot.spines['top'].set_visible(False)\n",
    "plot.spines['right'].set_visible(False)\n",
    "#plt.savefig(f'/projects/ML-SpaceDock/pictures/CACHE4_1M_ifp_destribution.png', dpi=300, bbox_inches='tight')\n",
    "plt.show()"
   ]
  },
  {
   "cell_type": "code",
   "execution_count": 11,
   "id": "9be53f75-8800-4a27-93ba-e2b045df0d40",
   "metadata": {},
   "outputs": [
    {
     "data": {
      "image/png": "[encoded data removed]",
      "text/plain": [
       "<Figure size 640x480 with 1 Axes>"
      ]
     },
     "metadata": {},
     "output_type": "display_data"
    }
   ],
   "source": [
    "labels = ['Amide', 'Buchwald', 'Grignard', 'Negishi', 'Oxadiazole', 'Reductive Amination', 'SNAr', 'Sulfonamide', 'Triazole', 'Williamson Ether']\n",
    "plot = sns.barplot(y=labels, \n",
    "            x=df.groupby('reaction').size(), \n",
    "            color='#4c72b0', \n",
    "            orient='h', \n",
    "            order=labels[::-1]\n",
    "            )\n",
    "plt.xticks(rotation = 0)\n",
    "plt.xlabel('Number of pairs', loc='center', rotation=0, fontsize = 12)\n",
    "plt.xticks(ticks = [0, 100000, 200000, 300000, 400000],labels=['0', '100K', '200K', '300K', '400K'])\n",
    "plt.xlabel('Number of pairs', loc='center', rotation=0, fontsize = 14)\n",
    "plot.spines['top'].set_visible(False)\n",
    "plot.spines['right'].set_visible(False)\n",
    "#plt.savefig(f'/projects/ML-SpaceDock/pictures/CACHE4_1M_pair_destribution_by_reaction.png', dpi=300, bbox_inches='tight')"
   ]
  }
 ],
 "metadata": {
  "kernelspec": {
   "display_name": "Python 3 (ipykernel)",
   "language": "python",
   "name": "python3"
  },
  "language_info": {
   "codemirror_mode": {
    "name": "ipython",
    "version": 3
   },
   "file_extension": ".py",
   "mimetype": "text/x-python",
   "name": "python",
   "nbconvert_exporter": "python",
   "pygments_lexer": "ipython3",
   "version": "3.10.14"
  }
 },
 "nbformat": 4,
 "nbformat_minor": 5
}
